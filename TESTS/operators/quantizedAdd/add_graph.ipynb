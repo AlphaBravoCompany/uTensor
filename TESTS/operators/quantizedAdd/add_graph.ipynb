{
 "cells": [
  {
   "cell_type": "code",
   "execution_count": 1,
   "metadata": {
    "ExecuteTime": {
     "end_time": "2018-10-14T06:16:53.203184Z",
     "start_time": "2018-10-14T06:16:50.607257Z"
    }
   },
   "outputs": [],
   "source": [
    "import tensorflow as tf"
   ]
  },
  {
   "cell_type": "code",
   "execution_count": 3,
   "metadata": {
    "ExecuteTime": {
     "end_time": "2018-10-14T06:18:18.802722Z",
     "start_time": "2018-10-14T06:18:18.798408Z"
    }
   },
   "outputs": [],
   "source": [
    "import numpy as np"
   ]
  },
  {
   "cell_type": "code",
   "execution_count": 5,
   "metadata": {
    "ExecuteTime": {
     "end_time": "2018-10-14T06:19:10.506735Z",
     "start_time": "2018-10-14T06:19:10.503674Z"
    }
   },
   "outputs": [],
   "source": [
    "np.random.seed(3690)"
   ]
  },
  {
   "cell_type": "code",
   "execution_count": 7,
   "metadata": {
    "ExecuteTime": {
     "end_time": "2018-10-14T06:20:33.446287Z",
     "start_time": "2018-10-14T06:20:33.426103Z"
    }
   },
   "outputs": [],
   "source": [
    "graph = tf.Graph()\n",
    "with graph.as_default():\n",
    "    tf_x = tf.constant(np.random.rand(10, 5), name='x', dtype=tf.float32)\n",
    "    tf_y = tf.constant(np.random.rand(5), name='y', dtype=tf.float32)\n",
    "    tf_z = tf.add(tf_x, tf_y, name='z')"
   ]
  },
  {
   "cell_type": "code",
   "execution_count": 8,
   "metadata": {
    "ExecuteTime": {
     "end_time": "2018-10-14T06:22:15.416352Z",
     "start_time": "2018-10-14T06:22:15.403777Z"
    }
   },
   "outputs": [],
   "source": [
    "with tf.gfile.GFile('add_graph.pb', 'wb') as fid:\n",
    "    fid.write(graph.as_graph_def().SerializeToString())"
   ]
  },
  {
   "cell_type": "code",
   "execution_count": 9,
   "metadata": {
    "ExecuteTime": {
     "end_time": "2018-10-14T06:37:47.582909Z",
     "start_time": "2018-10-14T06:37:47.543466Z"
    }
   },
   "outputs": [],
   "source": [
    "with tf.Session(graph=graph) as sess:\n",
    "    np_z = tf_z.eval()"
   ]
  },
  {
   "cell_type": "code",
   "execution_count": 11,
   "metadata": {
    "ExecuteTime": {
     "end_time": "2018-10-14T06:37:57.619318Z",
     "start_time": "2018-10-14T06:37:57.613559Z"
    }
   },
   "outputs": [],
   "source": [
    "import idx2numpy"
   ]
  },
  {
   "cell_type": "code",
   "execution_count": 12,
   "metadata": {
    "ExecuteTime": {
     "end_time": "2018-10-14T06:39:42.019083Z",
     "start_time": "2018-10-14T06:39:42.014087Z"
    }
   },
   "outputs": [],
   "source": [
    "with open('reference_z.idx', 'wb') as fid:\n",
    "    idx2numpy.convert_to_file(fid, np_z)"
   ]
  },
  {
   "cell_type": "code",
   "execution_count": null,
   "metadata": {},
   "outputs": [],
   "source": []
  }
 ],
 "metadata": {
  "kernelspec": {
   "display_name": "utensor_cgen",
   "language": "python",
   "name": "utensor_cgen"
  },
  "language_info": {
   "codemirror_mode": {
    "name": "ipython",
    "version": 3
   },
   "file_extension": ".py",
   "mimetype": "text/x-python",
   "name": "python",
   "nbconvert_exporter": "python",
   "pygments_lexer": "ipython3",
   "version": "3.6.5"
  },
  "toc": {
   "nav_menu": {},
   "number_sections": true,
   "sideBar": true,
   "skip_h1_title": false,
   "toc_cell": false,
   "toc_position": {},
   "toc_section_display": "block",
   "toc_window_display": false
  }
 },
 "nbformat": 4,
 "nbformat_minor": 2
}
